{
 "cells": [
  {
   "cell_type": "code",
   "execution_count": 1,
   "metadata": {},
   "outputs": [],
   "source": [
    "import pandas as pd\n",
    "import numpy as np\n"
   ]
  },
  {
   "cell_type": "code",
   "execution_count": 2,
   "metadata": {},
   "outputs": [
    {
     "data": {
      "text/plain": [
       "4"
      ]
     },
     "execution_count": 2,
     "metadata": {},
     "output_type": "execute_result"
    }
   ],
   "source": [
    "2+2"
   ]
  },
  {
   "cell_type": "code",
   "execution_count": 3,
   "metadata": {},
   "outputs": [],
   "source": [
    "DATE_COLUMN = \"date/time\"\n",
    "DATA_URL = (\n",
    "    \"https://s3-us-west-2.amazonaws.com/\"\n",
    "    \"streamlit-demo-data/uber-raw-data-sep14.csv.gz\"\n",
    ")\n",
    "data = pd.read_csv(DATA_URL, nrows=10_000)\n",
    "lowercase = lambda x: str(x).lower()\n",
    "data.rename(lowercase, axis=\"columns\", inplace=True)\n",
    "data[DATE_COLUMN] = pd.to_datetime(data[DATE_COLUMN])\n"
   ]
  },
  {
   "cell_type": "code",
   "execution_count": 4,
   "metadata": {},
   "outputs": [],
   "source": [
    "from pptx import Presentation\n",
    "from src.powerpoint.internal.constants.layouts import SlideLayouts\n",
    "\n",
    "prs = Presentation()"
   ]
  },
  {
   "cell_type": "code",
   "execution_count": 5,
   "metadata": {},
   "outputs": [],
   "source": [
    "prs = Presentation()\n",
    "title_slide_layout = prs.slide_layouts[0]\n",
    "slide = prs.slides.add_slide(title_slide_layout)\n",
    "title = slide.shapes.title\n",
    "subtitle = slide.placeholders[1]\n",
    "\n",
    "title.text = \"Hello, World!\"\n",
    "subtitle.text = \"python-pptx was here!\"\n",
    "\n",
    "prs.save('test.pptx')\n"
   ]
  },
  {
   "cell_type": "code",
   "execution_count": 6,
   "metadata": {},
   "outputs": [],
   "source": [
    "hist_values = np.histogram(data[DATE_COLUMN].dt.hour, bins=24, range=(0, 24))[0]\n"
   ]
  },
  {
   "cell_type": "code",
   "execution_count": 7,
   "metadata": {},
   "outputs": [
    {
     "data": {
      "text/plain": [
       "'Title Slide'"
      ]
     },
     "execution_count": 7,
     "metadata": {},
     "output_type": "execute_result"
    }
   ],
   "source": [
    "title_slide_layout.name"
   ]
  },
  {
   "cell_type": "code",
   "execution_count": 8,
   "metadata": {},
   "outputs": [],
   "source": [
    "slide = prs.slides.add_slide(prs.slide_layouts[SlideLayouts.TITLE_ONLY])"
   ]
  },
  {
   "cell_type": "code",
   "execution_count": 9,
   "metadata": {},
   "outputs": [
    {
     "data": {
      "text/plain": [
       "<pptx.slide.Slide at 0x1274a5810>"
      ]
     },
     "execution_count": 9,
     "metadata": {},
     "output_type": "execute_result"
    }
   ],
   "source": [
    "slide"
   ]
  },
  {
   "cell_type": "code",
   "execution_count": 10,
   "metadata": {},
   "outputs": [],
   "source": [
    "from pptx.chart.data import ChartData\n",
    "from pptx.enum.chart import XL_CHART_TYPE\n",
    "from pptx.util import Inches\n",
    "\n"
   ]
  },
  {
   "cell_type": "code",
   "execution_count": 11,
   "metadata": {},
   "outputs": [],
   "source": [
    "x, y, cx, cy = Inches(2), Inches(2), Inches(6), Inches(4.5)\n"
   ]
  },
  {
   "cell_type": "code",
   "execution_count": 12,
   "metadata": {},
   "outputs": [],
   "source": [
    "chart_data = ChartData()\n",
    "chart_data.categories = ['East', 'West', 'Midwest']\n",
    "chart_data.add_series('Q1 Sales', (19.2, 21.4, 16.7))\n",
    "chart_data.add_series('Q2 Sales', (22.3, 28.6, 15.2))\n",
    "chart_data.add_series('Q3 Sales', (20.4, 26.3, 14.2))\n",
    "\n",
    "graphic_frame = slide.shapes.add_chart(\n",
    "    XL_CHART_TYPE.COLUMN_CLUSTERED, x, y, cx, cy, chart_data\n",
    ")\n",
    "\n",
    "chart = graphic_frame.chart\n"
   ]
  },
  {
   "cell_type": "code",
   "execution_count": 13,
   "metadata": {},
   "outputs": [],
   "source": [
    "prs.save('chart-01.pptx')\n"
   ]
  },
  {
   "cell_type": "code",
   "execution_count": 14,
   "metadata": {},
   "outputs": [],
   "source": [
    "hist_values = np.histogram(data[DATE_COLUMN].dt.hour, bins=24, range=(0, 24))[0]"
   ]
  },
  {
   "cell_type": "code",
   "execution_count": 15,
   "metadata": {},
   "outputs": [],
   "source": [
    "data['Hour'] = data[DATE_COLUMN].dt.hour"
   ]
  },
  {
   "cell_type": "code",
   "execution_count": 16,
   "metadata": {},
   "outputs": [
    {
     "data": {
      "text/plain": [
       "array([27, 10,  5, 11, 25, 37, 50, 65, 85, 80, 89, 55, 47, 41, 43, 47, 48,\n",
       "       40, 35, 35, 38, 40, 29, 18])"
      ]
     },
     "execution_count": 16,
     "metadata": {},
     "output_type": "execute_result"
    }
   ],
   "source": [
    "hist_values"
   ]
  },
  {
   "cell_type": "code",
   "execution_count": 17,
   "metadata": {},
   "outputs": [],
   "source": [
    "slide = prs.slides.add_slide(prs.slide_layouts[SlideLayouts.TITLE_ONLY])"
   ]
  },
  {
   "cell_type": "code",
   "execution_count": 18,
   "metadata": {},
   "outputs": [],
   "source": [
    "grpd = data.groupby('Hour', as_index=False).count()"
   ]
  },
  {
   "cell_type": "code",
   "execution_count": 19,
   "metadata": {},
   "outputs": [],
   "source": [
    "x_axis = 'Hour'\n",
    "values = 'base'"
   ]
  },
  {
   "cell_type": "code",
   "execution_count": 20,
   "metadata": {},
   "outputs": [],
   "source": [
    "grpd.sort_values(by='Hour', inplace=True)"
   ]
  },
  {
   "cell_type": "code",
   "execution_count": 21,
   "metadata": {},
   "outputs": [],
   "source": [
    "categories = grpd[x_axis].unique()"
   ]
  },
  {
   "cell_type": "code",
   "execution_count": 22,
   "metadata": {},
   "outputs": [],
   "source": [
    "from src.powerpoint.internal.numpy.bridge import convert_series_to_list\n",
    "\n",
    "chart_data = ChartData()\n",
    "chart_data.categories = convert_series_to_list(categories)"
   ]
  },
  {
   "cell_type": "code",
   "execution_count": 23,
   "metadata": {},
   "outputs": [],
   "source": [
    "hues = []"
   ]
  },
  {
   "cell_type": "code",
   "execution_count": null,
   "metadata": {},
   "outputs": [],
   "source": [
    "for hue in hues:\n",
    "    data_to_add = list(grpd.loc[grpd[hue_column] ==  hue, values])\n",
    "    chart_data.add_series('Total', data_to_add)\n",
    "\n",
    "\n",
    "if len(hues) == 0:\n",
    "    dat = list(grpd[values])\n",
    "    chart_data.add_series('Total', dat)"
   ]
  },
  {
   "cell_type": "code",
   "execution_count": 24,
   "metadata": {},
   "outputs": [
    {
     "data": {
      "text/plain": [
       "<pptx.chart.data.CategorySeriesData at 0x127d59c90>"
      ]
     },
     "execution_count": 24,
     "metadata": {},
     "output_type": "execute_result"
    }
   ],
   "source": [
    "dat = list(grpd[values])\n",
    "chart_data.add_series('Total', dat)"
   ]
  },
  {
   "cell_type": "code",
   "execution_count": 25,
   "metadata": {},
   "outputs": [],
   "source": [
    "from src.powerpoint.internal.constants.sizes import STANDARD_SIZES\n",
    "\n",
    "\n",
    "chart = slide.shapes.add_chart(\n",
    "    XL_CHART_TYPE.LINE,*STANDARD_SIZES, chart_data\n",
    ").chart"
   ]
  },
  {
   "cell_type": "code",
   "execution_count": 26,
   "metadata": {},
   "outputs": [],
   "source": [
    "chart.has_legend = True\n",
    "chart.legend.include_in_layout = False"
   ]
  },
  {
   "cell_type": "code",
   "execution_count": 27,
   "metadata": {},
   "outputs": [],
   "source": [
    "prs.save('test.pptx')"
   ]
  },
  {
   "cell_type": "code",
   "execution_count": 32,
   "metadata": {},
   "outputs": [
    {
     "name": "stderr",
     "output_type": "stream",
     "text": [
      "<>:26: SyntaxWarning: assertion is always true, perhaps remove parentheses?\n",
      "<>:27: SyntaxWarning: assertion is always true, perhaps remove parentheses?\n",
      "<>:42: SyntaxWarning: assertion is always true, perhaps remove parentheses?\n",
      "<>:26: SyntaxWarning: assertion is always true, perhaps remove parentheses?\n",
      "<>:27: SyntaxWarning: assertion is always true, perhaps remove parentheses?\n",
      "<>:42: SyntaxWarning: assertion is always true, perhaps remove parentheses?\n",
      "/var/folders/x0/jb5_cvr572j39jp03sm1nsth0000gn/T/ipykernel_78410/607673130.py:26: SyntaxWarning: assertion is always true, perhaps remove parentheses?\n",
      "  assert(x_axis in data.columns, f'Requested x-axis of {x_axis} not found in source columns {data.columns}')\n",
      "/var/folders/x0/jb5_cvr572j39jp03sm1nsth0000gn/T/ipykernel_78410/607673130.py:27: SyntaxWarning: assertion is always true, perhaps remove parentheses?\n",
      "  assert(y_value in data.columns, f'Requested y-value of {y_value} not found in source columns {data.columns}')\n",
      "/var/folders/x0/jb5_cvr572j39jp03sm1nsth0000gn/T/ipykernel_78410/607673130.py:42: SyntaxWarning: assertion is always true, perhaps remove parentheses?\n",
      "  assert(hue in data.columns, f'Requested hue of {hue} not found in source columns {data.columns}')\n"
     ]
    }
   ],
   "source": [
    "from typing import Optional\n",
    "import pandas as pd\n",
    "from pptx import Presentation\n",
    "from pptx.slide import Slide\n",
    "from pptx.chart.data import ChartData\n",
    "\n",
    "from src.powerpoint.internal.constants.layouts import SlideLayouts\n",
    "\n",
    "\n",
    "class ThemedPresentation:\n",
    "    def __init__(self, pptx:Optional[str] = None, *args, **kwargs):\n",
    "        self.prs = Presentation(pptx)\n",
    "\n",
    "    def add_bar_chart(self) -> None:\n",
    "        raise NotImplementedError()\n",
    "\n",
    "    def add_line_chart(\n",
    "        self,\n",
    "        data: pd.DataFrame,\n",
    "        x_axis: str,\n",
    "        y_value: str,\n",
    "        hue: Optional[str] = None,\n",
    "        title: Optional[str] = None,\n",
    "        legend: Optional[bool] = True,\n",
    "    ) -> None:\n",
    "        assert(x_axis in data.columns, f'Requested x-axis of {x_axis} not found in source columns {data.columns}')\n",
    "        assert(y_value in data.columns, f'Requested y-value of {y_value} not found in source columns {data.columns}')\n",
    "\n",
    "\n",
    "        slide = self.add_slide(SlideLayouts.TITLE_ONLY)\n",
    "        if title:\n",
    "            title = slide.shapes.title\n",
    "            title.text = title\n",
    "\n",
    "        chart_data = ChartData()\n",
    "        data.sort_values(by=x_axis, inplace=True)\n",
    "\n",
    "        categories = data[x_axis].unique()\n",
    "        chart_data.categories = convert_series_to_list(categories)     \n",
    "\n",
    "        if hue:\n",
    "            assert(hue in data.columns, f'Requested hue of {hue} not found in source columns {data.columns}')\n",
    "            hues = data[hue].unique()\n",
    "            for hue in hues:\n",
    "                data_to_add = list(data.loc[data[hue] ==  hue, y_value])\n",
    "                chart_data.add_series('Total', data_to_add)\n",
    "        else:\n",
    "            dat = list(data[y_value])\n",
    "            chart_data.add_series('Total', dat)\n",
    "\n",
    "\n",
    "\n",
    "        chart = slide.shapes.add_chart(\n",
    "            XL_CHART_TYPE.LINE,*STANDARD_SIZES, chart_data\n",
    "        ).chart\n",
    "\n",
    "        if legend:\n",
    "            chart.has_legend = True\n",
    "            chart.legend.include_in_layout = False        \n",
    "    def add_slide(self, layout: SlideLayouts) -> Slide:\n",
    "        return self.prs.slides.add_slide(self.prs.slide_layouts[layout])\n",
    "    \n",
    "    def save(self, destination : str) -> None:\n",
    "        self.prs.save(destination)\n"
   ]
  },
  {
   "cell_type": "code",
   "execution_count": 35,
   "metadata": {},
   "outputs": [],
   "source": [
    "prb = ThemedPresentation()"
   ]
  },
  {
   "cell_type": "code",
   "execution_count": 39,
   "metadata": {},
   "outputs": [],
   "source": [
    "prb.add_line_chart(data=grpd, x_axis='Hour', y_value='base')"
   ]
  },
  {
   "cell_type": "code",
   "execution_count": 41,
   "metadata": {},
   "outputs": [],
   "source": [
    "prb.prs.save('test2.pptx')"
   ]
  },
  {
   "cell_type": "code",
   "execution_count": null,
   "metadata": {},
   "outputs": [],
   "source": []
  }
 ],
 "metadata": {
  "kernelspec": {
   "display_name": ".venv",
   "language": "python",
   "name": "python3"
  },
  "language_info": {
   "codemirror_mode": {
    "name": "ipython",
    "version": 3
   },
   "file_extension": ".py",
   "mimetype": "text/x-python",
   "name": "python",
   "nbconvert_exporter": "python",
   "pygments_lexer": "ipython3",
   "version": "3.10.6"
  }
 },
 "nbformat": 4,
 "nbformat_minor": 2
}
